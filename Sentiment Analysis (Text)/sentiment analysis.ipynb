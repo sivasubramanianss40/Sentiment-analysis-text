{
 "cells": [
  {
   "cell_type": "code",
   "execution_count": 7,
   "id": "b9234645",
   "metadata": {},
   "outputs": [
    {
     "name": "stdout",
     "output_type": "stream",
     "text": [
      "Sentiment: Positive\n",
      "Positive: 1.0\n",
      "Negative: 0.0\n",
      "Neutral: 0.0\n",
      "Compound: 0.4404\n"
     ]
    }
   ],
   "source": [
    "import nltk\n",
    "from nltk.sentiment.vader import SentimentIntensityAnalyzer\n",
    "\n",
    "# Initialize the VADER sentiment analyzer\n",
    "sid = SentimentIntensityAnalyzer()\n",
    "\n",
    "# Text you want to analyze\n",
    "text = \" good \"\n",
    "\n",
    "# Get sentiment scores\n",
    "sentiment_scores = sid.polarity_scores(text)\n",
    "\n",
    "# Interpret the sentiment scores\n",
    "if sentiment_scores['compound'] >= 0.05:\n",
    "    sentiment = \"Positive\"\n",
    "elif sentiment_scores['compound'] <= -0.05:\n",
    "    sentiment = \"Negative\"\n",
    "else:\n",
    "    sentiment = \"Neutral\"\n",
    "\n",
    "# Print the sentiment and scores\n",
    "print(f\"Sentiment: {sentiment}\")\n",
    "print(f\"Positive: {sentiment_scores['pos']}\")\n",
    "print(f\"Negative: {sentiment_scores['neg']}\")\n",
    "print(f\"Neutral: {sentiment_scores['neu']}\")\n",
    "print(f\"Compound: {sentiment_scores['compound']}\")\n"
   ]
  },
  {
   "cell_type": "code",
   "execution_count": null,
   "id": "2a8868d5",
   "metadata": {},
   "outputs": [],
   "source": []
  }
 ],
 "metadata": {
  "kernelspec": {
   "display_name": "Python 3 (ipykernel)",
   "language": "python",
   "name": "python3"
  },
  "language_info": {
   "codemirror_mode": {
    "name": "ipython",
    "version": 3
   },
   "file_extension": ".py",
   "mimetype": "text/x-python",
   "name": "python",
   "nbconvert_exporter": "python",
   "pygments_lexer": "ipython3",
   "version": "3.9.13"
  }
 },
 "nbformat": 4,
 "nbformat_minor": 5
}
